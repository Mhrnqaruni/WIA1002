{
 "cells": [
  {
   "cell_type": "markdown",
   "id": "efe4a81f-f484-4002-88a0-302c39b26598",
   "metadata": {},
   "source": [
    "# Q1"
   ]
  },
  {
   "cell_type": "code",
   "execution_count": null,
   "id": "446baa38-20fc-4f75-b74f-c11abcbd1410",
   "metadata": {},
   "outputs": [],
   "source": [
    " \n",
    "# 1.Class Creation: Start by creating a class named MyStack. This will be the blueprint for your stack.\n",
    "# 2.Initialize the Stack: In the class, create an __init__ method that sets up an empty list. This list will hold the stack’s items.\n",
    "# 3.Push Method: Write a push method that takes an item as a parameter and appends it to the end of the list. This simulates adding an item to the top of the stack.\n",
    "# 4.Pop Method: Write a pop method that removes and returns the last item from the list if the stack is not empty. This simulates removing the top item from the stack.\n",
    "# 5.Peek Method: Write a peek method that returns the last item in the list without removing it. This lets you see the top item of the stack.\n",
    "# 6.Size Method: Write a get_size method that returns the number of items in the list. This tells you how many items are in the stack.\n",
    "# 7.Empty Check Method: Write an is_empty method that returns True if the list is empty and False otherwise.\n",
    "# 8.String Representation: Write a __str__ method that returns a string representation of the list. This is useful for printing the stack’s contents.\n",
    "# 9.Search Method: Write a search method that checks if an item is in the list and returns True if it is and False if it’s not.\n",
    "# 10.Testing the Stack: After implementing the class, write a test program that creates an instance of MyStack, uses the push method to add items, and tests all the other methods.\n",
    "\n",
    "\n"
   ]
  },
  {
   "cell_type": "markdown",
   "id": "00bece3a-95ec-4db0-92d2-4e2e93d21ab5",
   "metadata": {},
   "source": [
    "## a)"
   ]
  },
  {
   "cell_type": "code",
   "execution_count": 2,
   "id": "730f57bf-f55a-42ac-8dc3-f83974d575a8",
   "metadata": {},
   "outputs": [],
   "source": [
    "class MyStack:\n",
    "    def __init__(self):\n",
    "        self.stack = []\n",
    "\n",
    "    def push(self, item):\n",
    "        self.stack.append(item)\n",
    "\n",
    "    def pop(self):\n",
    "        if not self.is_empty():\n",
    "            return self.stack.pop()\n",
    "        else:\n",
    "            return None\n",
    "\n",
    "    def peek(self):\n",
    "        if not self.is_empty():\n",
    "            return self.stack[-1]\n",
    "        else:\n",
    "            return None\n",
    "\n",
    "    def get_size(self):\n",
    "        return len(self.stack)\n",
    "\n",
    "    def is_empty(self):\n",
    "        return len(self.stack) == 0\n",
    "\n",
    "    def __str__(self):\n",
    "        return str(self.stack)\n",
    "\n",
    "    def search(self, item):\n",
    "        return item in self.stack"
   ]
  },
  {
   "cell_type": "markdown",
   "id": "40b4c7c9-06dd-4c7c-b38a-d53c22f46129",
   "metadata": {},
   "source": [
    "## b)"
   ]
  },
  {
   "cell_type": "code",
   "execution_count": 3,
   "id": "d3272470-d445-4014-b52a-cd3d620e49de",
   "metadata": {},
   "outputs": [
    {
     "name": "stdout",
     "output_type": "stream",
     "text": [
      "Stack of Characters: ['a', 'b', 'c']\n",
      "'b' is in the stack: True\n",
      "'k' is in the stack: False\n"
     ]
    }
   ],
   "source": [
    "# Test program for MyStack class\n",
    "if __name__ == \"__main__\":\n",
    "    # Stack of Characters\n",
    "    char_stack = MyStack()\n",
    "    char_stack.push('a')\n",
    "    char_stack.push('b')\n",
    "    char_stack.push('c')\n",
    "    \n",
    "    print(\"Stack of Characters:\", char_stack)\n",
    "    print(\"'b' is in the stack:\", char_stack.search('b'))\n",
    "    print(\"'k' is in the stack:\", char_stack.search('k'))"
   ]
  },
  {
   "cell_type": "markdown",
   "id": "56c918e3-1943-4e09-a834-c9c10e747190",
   "metadata": {},
   "source": [
    "## C)"
   ]
  },
  {
   "cell_type": "code",
   "execution_count": 4,
   "id": "4a20c577-21b5-4103-8de9-135b201eb394",
   "metadata": {},
   "outputs": [
    {
     "name": "stdout",
     "output_type": "stream",
     "text": [
      "\n",
      "Stack of Integers: [1, 2, 3]\n",
      "6 is in the stack: False\n"
     ]
    }
   ],
   "source": [
    "if __name__ == \"__main__\":\n",
    "    # Stack of Integers\n",
    "    int_stack = MyStack()\n",
    "    int_stack.push(1)\n",
    "    int_stack.push(2)\n",
    "    int_stack.push(3)\n",
    "    \n",
    "    print(\"\\nStack of Integers:\", int_stack)\n",
    "    print(\"6 is in the stack:\", int_stack.search(6))"
   ]
  },
  {
   "cell_type": "markdown",
   "id": "c5637d62-d5cf-4f5b-8c81-725f28532b09",
   "metadata": {},
   "source": [
    "# Q2"
   ]
  },
  {
   "cell_type": "code",
   "execution_count": null,
   "id": "bc40ac63-6059-40bc-84ec-5331fad0d466",
   "metadata": {},
   "outputs": [],
   "source": [
    "# 1.Prompt for User Input: Start by asking the user to enter an integer value. Use the input() function in Python to capture this input and convert it to an integer using int().\n",
    "# 2.Create the Stack: Initialize a new instance of the MyStack class to create an empty stack where you’ll store the integer values.\n",
    "# 3.Push Values onto the Stack: Use a loop to push values onto the stack. The loop should start at 1 and end at the user-entered value, inclusive.\n",
    "# 4.Print the Stack Size: Before popping the values off, use the get_size() method of the MyStack class to print the current size of the stack.\n",
    "# 5.Pop Values from the Stack: Use a while loop to pop values from the stack until it is empty. Inside the loop, call the pop() method and print the returned value.\n",
    "# 6.Display the Stack Contents: As you pop each value, display it to the user. This shows the order in which the values are removed from the stack.\n",
    "# 7.Test the Program: Run the program to ensure it works as expected. The user should see the size of the stack and each value being popped off.\n"
   ]
  },
  {
   "cell_type": "code",
   "execution_count": 10,
   "id": "421ec108-2238-4e95-ba6c-a155881a5fec",
   "metadata": {},
   "outputs": [
    {
     "name": "stdin",
     "output_type": "stream",
     "text": [
      "Enter an integer value:  6\n"
     ]
    },
    {
     "name": "stdout",
     "output_type": "stream",
     "text": [
      "Size of the stack: 6\n",
      "Contents of the stack:\n",
      "6 5 4 3 2 1 \n"
     ]
    }
   ],
   "source": [
    "class MyStack:\n",
    "    def __init__(self):\n",
    "        self.stack = []\n",
    "\n",
    "    def push(self, item):\n",
    "        self.stack.append(item)\n",
    "\n",
    "    def pop(self):\n",
    "        if not self.is_empty():\n",
    "            return self.stack.pop()\n",
    "        else:\n",
    "            return None\n",
    "\n",
    "    def is_empty(self):\n",
    "        return len(self.stack) == 0\n",
    "\n",
    "    def get_size(self):\n",
    "        return len(self.stack)\n",
    "\n",
    "# Test program for MyStack class\n",
    "class TestIntMyStack:\n",
    "    def __init__(self):\n",
    "        self.stack = MyStack()\n",
    "\n",
    "    def fill_stack(self, value):\n",
    "        for i in range(1, value + 1):\n",
    "            self.stack.push(i)\n",
    "\n",
    "    def display_and_empty_stack(self):\n",
    "        print(\"Size of the stack:\", self.stack.get_size())\n",
    "        print(\"Contents of the stack:\")\n",
    "        while not self.stack.is_empty():\n",
    "            print(self.stack.pop(), end=' ')\n",
    "        print()  # for newline\n",
    "\n",
    "# Main execution\n",
    "if __name__ == \"__main__\":\n",
    "    test_stack = TestIntMyStack()\n",
    "    user_value = int(input(\"Enter an integer value: \"))\n",
    "    test_stack.fill_stack(user_value)\n",
    "    test_stack.display_and_empty_stack()\n"
   ]
  },
  {
   "cell_type": "markdown",
   "id": "0f62a9ea-d050-4ff9-b608-31189c0fe379",
   "metadata": {},
   "source": [
    "# Q3"
   ]
  },
  {
   "cell_type": "code",
   "execution_count": null,
   "id": "d7b07466-daf9-471e-aa4a-47a824581234",
   "metadata": {},
   "outputs": [],
   "source": [
    "# 1.Create a Helper Stack: Since you can only use stack operations, you’ll need a temporary stack to hold elements while you’re working with the main stack.\n",
    "# 2.Initialize Sum Variable: Start with a variable to keep track of the total sum. Set it to zero.\n",
    "# 3.Pop Elements from Main Stack: Remove elements from the main stack one by one. As you remove each element, add its value to the sum variable.\n",
    "# 4.Push Elements to Helper Stack: After adding an element’s value to the sum, push it onto the temporary stack to keep it safe.\n",
    "# 5.Restore Main Stack: Once the main stack is empty and you have the total sum, move the elements back from the helper stack to the main stack. This way, the main stack will be in its original state.\n",
    "# 6.Return the Sum: After all elements are back in the main stack, return the sum variable’s value.\n"
   ]
  },
  {
   "cell_type": "code",
   "execution_count": 13,
   "id": "5fb032dd-e265-452e-9c69-f09f531e07d4",
   "metadata": {},
   "outputs": [
    {
     "name": "stdout",
     "output_type": "stream",
     "text": [
      "The sum of the elements in the stack is: 6\n"
     ]
    }
   ],
   "source": [
    "class Stack:\n",
    "    def __init__(self):\n",
    "        self.items = []\n",
    "\n",
    "    def is_empty(self):\n",
    "        return len(self.items) == 0\n",
    "\n",
    "    def push(self, item):\n",
    "        self.items.append(item)\n",
    "\n",
    "    def pop(self):\n",
    "        if not self.is_empty():\n",
    "            return self.items.pop()\n",
    "        return None\n",
    "\n",
    "    def peek(self):\n",
    "        if not self.is_empty():\n",
    "            return self.items[-1]\n",
    "        return None\n",
    "\n",
    "def sum_stack(S):\n",
    "    temp_stack = Stack()\n",
    "    total_sum = 0\n",
    "    # Pop elements from S and add to the sum\n",
    "    while not S.is_empty():\n",
    "        value = S.pop()\n",
    "        total_sum += value\n",
    "        temp_stack.push(value)\n",
    "    \n",
    "    # Push the elements back to S\n",
    "    while not temp_stack.is_empty():\n",
    "        S.push(temp_stack.pop())\n",
    "    \n",
    "    return total_sum\n",
    "\n",
    "# Example usage:\n",
    "S = Stack()\n",
    "# Assuming we push some positive integers onto the stack S\n",
    "S.push(1)\n",
    "S.push(2)\n",
    "S.push(3)\n",
    "# Now we call the sum_stack function\n",
    "print(\"The sum of the elements in the stack is:\", sum_stack(S))\n"
   ]
  },
  {
   "cell_type": "markdown",
   "id": "8eca0ee1-d637-4167-8200-d0bbab403ac1",
   "metadata": {},
   "source": [
    "# Q4"
   ]
  },
  {
   "cell_type": "code",
   "execution_count": null,
   "id": "f5f4e2d9-3c06-4dcb-8076-104cb33e72e0",
   "metadata": {},
   "outputs": [],
   "source": [
    "# 1.Create a Stack: Use a stack data structure to help reverse the string. You can use a list in Python as a stack.\n",
    "# 2.Push Characters onto Stack: Loop through each character in the string and push it onto the stack. This stores the characters in reverse order.\n",
    "# 3.Pop Characters from Stack: Create an empty string to hold the reversed characters. Then, pop each character off the stack and add it to the empty string.\n",
    "# 4.Compare Original and Reversed Strings: Check if the original string is the same as the reversed string. If they are the same, the string is a palindrome.\n",
    "# 5.Return the Result: The function should return True if the string is a palindrome and False otherwise.\n"
   ]
  },
  {
   "cell_type": "code",
   "execution_count": 2,
   "id": "36bf1c42-9a9d-428c-91b2-aea2fb4722ca",
   "metadata": {},
   "outputs": [
    {
     "name": "stdin",
     "output_type": "stream",
     "text": [
      "Enter a string to check if it's a palindrome:  HeleH\n"
     ]
    },
    {
     "name": "stdout",
     "output_type": "stream",
     "text": [
      "'HeleH' is a palindrome.\n"
     ]
    }
   ],
   "source": [
    "class Stack:\n",
    "    def __init__(self):\n",
    "        self.items = []\n",
    "\n",
    "    def push(self, item):\n",
    "        self.items.append(item)\n",
    "\n",
    "    def pop(self):\n",
    "        return self.items.pop() if self.items else None\n",
    "\n",
    "    def is_empty(self):\n",
    "        return len(self.items) == 0\n",
    "\n",
    "def is_palindrome(s):\n",
    "    # Ensure the string is not longer than 15 characters\n",
    "    if len(s) > 15:\n",
    "        return False\n",
    "\n",
    "    stack = Stack()\n",
    "    for char in s:\n",
    "        stack.push(char)\n",
    "\n",
    "    reversed_s = ''\n",
    "    while not stack.is_empty():\n",
    "        reversed_s += stack.pop()\n",
    "\n",
    "    return s == reversed_s\n",
    "\n",
    "# Example usage:\n",
    "input_string = input(\"Enter a string to check if it's a palindrome: \")\n",
    "if is_palindrome(input_string):\n",
    "    print(f\"'{input_string}' is a palindrome.\")\n",
    "else:\n",
    "    print(f\"'{input_string}' is not a palindrome.\")\n"
   ]
  },
  {
   "cell_type": "markdown",
   "id": "e2817274-9fb1-429a-9bf7-aad84ff8f313",
   "metadata": {},
   "source": [
    "# Q5"
   ]
  },
  {
   "cell_type": "code",
   "execution_count": null,
   "id": "a75570dc-c828-4368-8656-cff58e08c06b",
   "metadata": {},
   "outputs": [],
   "source": [
    "# Objective: Move the entire stack of disks from the source rod to the target rod, following these rules:\n",
    "\n",
    "# Only one disk can be moved at a time.\n",
    "# Each move involves taking the top disk from one rod and sliding it onto another rod.\n",
    "# No disk may be placed on top of a smaller disk.\n",
    "\n",
    "# Instructions:\n",
    "\n",
    "# 1.Class Definition: Define a Stack class with methods to push, pop, and check if the stack is empty.\n",
    "# 2.Initialize Rods: Create three instances of the Stack class to represent the rods: source, auxiliary, and target.\n",
    "# 3.Load Disks: Push disks onto the source rod in descending order (largest disk at the bottom).\n",
    "# 4.Recursive Function: Write a recursive function move_disks that takes the number of disks n, and the indices of the source, auxiliary, and target rods as parameters.\n",
    "# 5.Base Case: If n is 1, call the move_disk function to move the disk from the source to the target.\n",
    "# 6.Recursive Case: If n is greater than 1, recursively move n-1 disks to the auxiliary rod, move the nth disk to the target rod, and then move the n-1 disks from the auxiliary rod to the target rod.\n",
    "# 7.Visualize Moves: After each move, print the state of each rod to visualize the process.\n",
    "# 8.Solve the Puzzle: Call the move_disks function with the total number of disks and the indices of the source, auxiliary, and target rods to solve the puzzle.\n",
    "# 9.Test the Solution: Run the program with a small number of disks to ensure it works correctly.\n"
   ]
  },
  {
   "cell_type": "code",
   "execution_count": 4,
   "id": "34c87fa0-e805-4359-b752-00871956f655",
   "metadata": {},
   "outputs": [
    {
     "name": "stdout",
     "output_type": "stream",
     "text": [
      "Move disk 1 from tower 0 to tower 1\n",
      "Move disk 2 from tower 0 to tower 2\n",
      "Move disk 1 from tower 1 to tower 2\n",
      "Move disk 3 from tower 0 to tower 1\n",
      "Move disk 1 from tower 2 to tower 0\n",
      "Move disk 2 from tower 2 to tower 1\n",
      "Move disk 1 from tower 0 to tower 1\n",
      "Move disk 4 from tower 0 to tower 2\n",
      "Move disk 1 from tower 1 to tower 2\n",
      "Move disk 2 from tower 1 to tower 0\n",
      "Move disk 1 from tower 2 to tower 0\n",
      "Move disk 3 from tower 1 to tower 2\n",
      "Move disk 1 from tower 0 to tower 1\n",
      "Move disk 2 from tower 0 to tower 2\n",
      "Move disk 1 from tower 1 to tower 2\n"
     ]
    }
   ],
   "source": [
    "class Stack:\n",
    "    def __init__(self):\n",
    "        self.container = []\n",
    "\n",
    "    def push(self, item):\n",
    "        self.container.append(item)\n",
    "\n",
    "    def pop(self):\n",
    "        return self.container.pop() if not self.is_empty() else None\n",
    "\n",
    "    def peek(self):\n",
    "        return self.container[-1] if not self.is_empty() else None\n",
    "\n",
    "    def is_empty(self):\n",
    "        return len(self.container) == 0\n",
    "\n",
    "    def size(self):\n",
    "        return len(self.container)\n",
    "\n",
    "    def __str__(self):\n",
    "        return str(self.container)\n",
    "\n",
    "class TowerOfHanoi:\n",
    "    def __init__(self, num_disks):\n",
    "        self.num_disks = num_disks\n",
    "        self.towers = [Stack() for _ in range(3)]\n",
    "        for i in range(num_disks, 0, -1):\n",
    "            self.towers[0].push(i)\n",
    "\n",
    "    def move_disks(self, n, source, auxiliary, target):\n",
    "        if n > 0:\n",
    "            self.move_disks(n-1, source, target, auxiliary)\n",
    "            disk = self.towers[source].pop()\n",
    "            self.towers[target].push(disk)\n",
    "            print(f\"Move disk {disk} from tower {source} to tower {target}\")\n",
    "            self.move_disks(n-1, auxiliary, source, target)\n",
    "\n",
    "    def solve(self):\n",
    "        self.move_disks(self.num_disks, 0, 1, 2)\n",
    "\n",
    "# Example usage:\n",
    "hanoi = TowerOfHanoi(4)\n",
    "hanoi.solve()\n"
   ]
  },
  {
   "cell_type": "code",
   "execution_count": 9,
   "id": "6cf6e432-c603-4518-ac9c-92e93e19a396",
   "metadata": {},
   "outputs": [
    {
     "name": "stdout",
     "output_type": "stream",
     "text": [
      "\n",
      "Tower A:            [3, 2, 1]\n",
      "Tower B:                   []\n",
      "Tower C:                   []\n",
      "\n",
      "Move disk 1 from tower 0 to tower 2\n",
      "\n",
      "Tower A:               [3, 2]\n",
      "Tower B:                   []\n",
      "Tower C:                  [1]\n",
      "\n",
      "Move disk 2 from tower 0 to tower 1\n",
      "\n",
      "Tower A:                  [3]\n",
      "Tower B:                  [2]\n",
      "Tower C:                  [1]\n",
      "\n",
      "Move disk 1 from tower 2 to tower 1\n",
      "\n",
      "Tower A:                  [3]\n",
      "Tower B:               [2, 1]\n",
      "Tower C:                   []\n",
      "\n",
      "Move disk 3 from tower 0 to tower 2\n",
      "\n",
      "Tower A:                   []\n",
      "Tower B:               [2, 1]\n",
      "Tower C:                  [3]\n",
      "\n",
      "Move disk 1 from tower 1 to tower 0\n",
      "\n",
      "Tower A:                  [1]\n",
      "Tower B:                  [2]\n",
      "Tower C:                  [3]\n",
      "\n",
      "Move disk 2 from tower 1 to tower 2\n",
      "\n",
      "Tower A:                  [1]\n",
      "Tower B:                   []\n",
      "Tower C:               [3, 2]\n",
      "\n",
      "Move disk 1 from tower 0 to tower 2\n",
      "\n",
      "Tower A:                   []\n",
      "Tower B:                   []\n",
      "Tower C:            [3, 2, 1]\n"
     ]
    }
   ],
   "source": [
    "class Stack:\n",
    "    def __init__(self):\n",
    "        self.container = []\n",
    "\n",
    "    def push(self, item):\n",
    "        self.container.append(item)\n",
    "\n",
    "    def pop(self):\n",
    "        return self.container.pop() if not self.is_empty() else None\n",
    "\n",
    "    def peek(self):\n",
    "        return self.container[-1] if not self.is_empty() else None\n",
    "\n",
    "    def is_empty(self):\n",
    "        return len(self.container) == 0\n",
    "\n",
    "    def size(self):\n",
    "        return len(self.container)\n",
    "\n",
    "    def __str__(self):\n",
    "        return str(self.container).rjust(20)\n",
    "\n",
    "class TowerOfHanoi:\n",
    "    def __init__(self, num_disks):\n",
    "        self.num_disks = num_disks\n",
    "        self.towers = [Stack() for _ in range(3)]\n",
    "        for i in range(num_disks, 0, -1):\n",
    "            self.towers[0].push(i)\n",
    "        self.display_towers()\n",
    "\n",
    "    def move_disks(self, n, source, auxiliary, target):\n",
    "        if n > 0:\n",
    "            self.move_disks(n-1, source, target, auxiliary)\n",
    "            disk = self.towers[source].pop()\n",
    "            self.towers[target].push(disk)\n",
    "            print(f\"\\nMove disk {disk} from tower {source} to tower {target}\")\n",
    "            self.display_towers()\n",
    "            self.move_disks(n-1, auxiliary, source, target)\n",
    "\n",
    "    def solve(self):\n",
    "        self.move_disks(self.num_disks, 0, 1, 2)\n",
    "\n",
    "    def display_towers(self):\n",
    "        print(\"\\nTower A:\", self.towers[0])\n",
    "        print(\"Tower B:\", self.towers[1])\n",
    "        print(\"Tower C:\", self.towers[2])\n",
    "\n",
    "# Example usage:\n",
    "hanoi = TowerOfHanoi(3)\n",
    "hanoi.solve()\n"
   ]
  },
  {
   "cell_type": "code",
   "execution_count": null,
   "id": "4fbe5fce-c571-42c2-9c85-695f9d5afb8b",
   "metadata": {},
   "outputs": [],
   "source": []
  }
 ],
 "metadata": {
  "kernelspec": {
   "display_name": "Python 3 (ipykernel)",
   "language": "python",
   "name": "python3"
  },
  "language_info": {
   "codemirror_mode": {
    "name": "ipython",
    "version": 3
   },
   "file_extension": ".py",
   "mimetype": "text/x-python",
   "name": "python",
   "nbconvert_exporter": "python",
   "pygments_lexer": "ipython3",
   "version": "3.10.6"
  }
 },
 "nbformat": 4,
 "nbformat_minor": 5
}
