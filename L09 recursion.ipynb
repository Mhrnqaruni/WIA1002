{
 "cells": [
  {
   "cell_type": "markdown",
   "id": "d726413b-94dc-45c5-8940-395aa238adf9",
   "metadata": {},
   "source": [
    "# Q1"
   ]
  },
  {
   "cell_type": "code",
   "execution_count": 1,
   "id": "c882e6be-1764-4594-8f66-11b38c4f428a",
   "metadata": {},
   "outputs": [
    {
     "name": "stdout",
     "output_type": "stream",
     "text": [
      "flibbergisted\n",
      "Astroniut\n"
     ]
    }
   ],
   "source": [
    "# Define a recursive function named 'substituteAI'\n",
    "def substituteAI(s):\n",
    "    # If the string is empty, return it as is (base case for recursion)\n",
    "    if not s:\n",
    "        return s\n",
    "    else:\n",
    "        # Check the first character of the string:\n",
    "        # If it's a lowercase 'a', replace it with 'i' (but not if it's 'A')\n",
    "        # Then call the function recursively with the rest of the string\n",
    "        return (s[0].replace('a', 'i') if s[0] != 'A' else s[0]) + substituteAI(s[1:])\n",
    "\n",
    "# Example usage of the function:\n",
    "print(substituteAI(\"flabbergasted\"))  # Output: \"flibbergisted\"\n",
    "print(substituteAI(\"Astronaut\"))      # Output: \"Astroniut\"\n"
   ]
  },
  {
   "cell_type": "markdown",
   "id": "8bbfc76b-fba1-4288-9fb0-dcdfd7c77487",
   "metadata": {},
   "source": [
    "# Q2"
   ]
  },
  {
   "cell_type": "code",
   "execution_count": 2,
   "id": "c89a85c5-68c7-42a6-8986-41c6bd7add32",
   "metadata": {},
   "outputs": [
    {
     "name": "stdout",
     "output_type": "stream",
     "text": [
      "ABC\n",
      "ACB\n",
      "BAC\n",
      "BCA\n",
      "CAB\n",
      "CBA\n"
     ]
    }
   ],
   "source": [
    "# Define a recursive function called 'permuteString'\n",
    "def permuteString(s, answer=''):\n",
    "    # Base case: if the string is empty, print the current permutation\n",
    "    if len(s) == 0:\n",
    "        print(answer)\n",
    "    else:\n",
    "        # Iterate over each character in the string\n",
    "        for i in range(len(s)):\n",
    "            # Choose the current character\n",
    "            char = s[i]\n",
    "            # Form the remaining string after removing the chosen character\n",
    "            remaining = s[:i] + s[i+1:]\n",
    "            # Recursive call with the remaining characters and the current permutation\n",
    "            permuteString(remaining, answer+char)\n",
    "\n",
    "# Example usage of the function:\n",
    "permuteString(\"ABC\")\n"
   ]
  },
  {
   "cell_type": "markdown",
   "id": "5c1b667f-6f05-47a2-aa9b-4aea61a65794",
   "metadata": {},
   "source": [
    "# Q3"
   ]
  },
  {
   "cell_type": "code",
   "execution_count": 3,
   "id": "f2fa7dcd-8635-4507-b824-77eca00e8c4d",
   "metadata": {},
   "outputs": [
    {
     "name": "stdout",
     "output_type": "stream",
     "text": [
      "1000\n"
     ]
    }
   ],
   "source": [
    "# Define a recursive function called 'exponent' that calculates x raised to the power of y\n",
    "def exponent(x, y):\n",
    "    # Base case: if y is 0, return 1 (since x^0 is always 1)\n",
    "    if y == 0:\n",
    "        return 1\n",
    "    # Recursive case: multiply x by the result of exponent(x, y-1)\n",
    "    else:\n",
    "        return x * exponent(x, y-1)\n",
    "\n",
    "# Example usage of the function:\n",
    "print(exponent(10, 3))  # Output: 1000\n"
   ]
  },
  {
   "cell_type": "code",
   "execution_count": null,
   "id": "a8e2bda1-52af-4ff6-9606-05c74715b24d",
   "metadata": {},
   "outputs": [],
   "source": []
  }
 ],
 "metadata": {
  "kernelspec": {
   "display_name": "Python 3 (ipykernel)",
   "language": "python",
   "name": "python3"
  },
  "language_info": {
   "codemirror_mode": {
    "name": "ipython",
    "version": 3
   },
   "file_extension": ".py",
   "mimetype": "text/x-python",
   "name": "python",
   "nbconvert_exporter": "python",
   "pygments_lexer": "ipython3",
   "version": "3.10.6"
  }
 },
 "nbformat": 4,
 "nbformat_minor": 5
}
