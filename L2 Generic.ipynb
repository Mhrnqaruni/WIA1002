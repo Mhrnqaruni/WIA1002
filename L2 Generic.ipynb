{
 "cells": [
  {
   "cell_type": "markdown",
   "id": "9fde2591-f8bd-4169-a0f8-d398ba4ffd85",
   "metadata": {},
   "source": [
    "# Q1"
   ]
  },
  {
   "cell_type": "code",
   "execution_count": 2,
   "id": "1fd9b0ee-d4db-4d15-b211-31387998f006",
   "metadata": {},
   "outputs": [
    {
     "name": "stdout",
     "output_type": "stream",
     "text": [
      "The value of strObj is: Hello, World!\n",
      "The value of intObj is: 42\n"
     ]
    }
   ],
   "source": [
    "class MyGeneric:\n",
    "    # Constructor with optional generic parameter, default is None\n",
    "    def __init__(self, e=None):\n",
    "        self.e = e  # Initialize the generic type variable\n",
    "\n",
    "    # Setter method to set the value of the generic type variable\n",
    "    def set_value(self, e):\n",
    "        self.e = e\n",
    "\n",
    "    # Getter method to get the value of the generic type variable\n",
    "    def get_value(self):\n",
    "        return self.e\n",
    "\n",
    "# Test program\n",
    "if __name__ == \"__main__\":\n",
    "    # Create an instance of MyGeneric for type String\n",
    "    strObj = MyGeneric()  # Instantiate the generic class without passing a value\n",
    "    strObj.set_value(\"Hello, World!\")  # Set the value of the generic type variable to a string\n",
    "    print(f\"The value of strObj is: {strObj.get_value()}\")  # Print the value of the generic type variable\n",
    "\n",
    "    # Create an instance of MyGeneric for type Integer\n",
    "    intObj = MyGeneric()  # Instantiate the generic class without passing a value\n",
    "    intObj.set_value(42)  # Set the value of the ge neric type variable to an integer\n",
    "    print(f\"The value of intObj is: {intObj.get_value()}\")  # Print the value of the generic type variable\n"
   ]
  },
  {
   "cell_type": "markdown",
   "id": "3c75ca9d-ee36-4237-9b45-b64bfa6c58be",
   "metadata": {},
   "source": [
    "# Q2"
   ]
  },
  {
   "cell_type": "code",
   "execution_count": 3,
   "id": "02b6a4c5-5043-456e-94ae-91d91a3ee400",
   "metadata": {},
   "outputs": [
    {
     "name": "stdout",
     "output_type": "stream",
     "text": [
      "The maximum integer value is: 30\n",
      "The maximum string value is: cherry\n",
      "The maximum float value is: 30.1\n"
     ]
    }
   ],
   "source": [
    "class CompareMax:\n",
    "    @staticmethod\n",
    "    def maximum(a, b, c):\n",
    "        \"\"\"\n",
    "        Generic static method to find the maximum of three values.\n",
    "        The values are assumed to be of a type that supports comparison.\n",
    "        \"\"\"\n",
    "        # Compare the three values and return the maximum\n",
    "        if a >= b and a >= c:\n",
    "            return a\n",
    "        elif b >= a and b >= c:\n",
    "            return b\n",
    "        else:\n",
    "            return c\n",
    "\n",
    "# Main method to invoke the maximum method\n",
    "if __name__ == \"__main__\":\n",
    "    # Example usage with integers\n",
    "    max_value_int = CompareMax.maximum(10, 20, 30)\n",
    "    print(f\"The maximum integer value is: {max_value_int}\")\n",
    "\n",
    "    # Example usage with strings\n",
    "    max_value_str = CompareMax.maximum(\"apple\", \"banana\", \"cherry\")\n",
    "    print(f\"The maximum string value is: {max_value_str}\")\n",
    "\n",
    "    # Example usage with floats\n",
    "    max_value_float = CompareMax.maximum(10.5, 20.2, 30.1)\n",
    "    print(f\"The maximum float value is: {max_value_float}\")\n"
   ]
  },
  {
   "cell_type": "markdown",
   "id": "9ee16cb2-e15d-47c5-8133-509c429a59ee",
   "metadata": {},
   "source": [
    "# Q3"
   ]
  },
  {
   "cell_type": "markdown",
   "id": "60924d3b-5bad-4ceb-803e-b991030ade21",
   "metadata": {},
   "source": [
    "## Q3 - a"
   ]
  },
  {
   "cell_type": "code",
   "execution_count": 6,
   "id": "6b00d675-5e24-4c13-8c53-1531ecf9e164",
   "metadata": {},
   "outputs": [
    {
     "name": "stdout",
     "output_type": "stream",
     "text": [
      "first = 1 second = 2\n",
      "first = apple second = banana\n",
      "first = hello second = 42\n"
     ]
    }
   ],
   "source": [
    "class StorePairGeneric:\n",
    "    \"\"\"\n",
    "    A generic class that stores a pair of values.\n",
    "    \"\"\"\n",
    "    def __init__(self, first, second):\n",
    "        self.first = first\n",
    "        self.second = second\n",
    "\n",
    "    def get_first(self):\n",
    "        \"\"\"\n",
    "        Returns the first value of the pair.\n",
    "        \"\"\"\n",
    "        return self.first\n",
    "\n",
    "    def get_second(self):\n",
    "        \"\"\"\n",
    "        Returns the second value of the pair.\n",
    "        \"\"\"\n",
    "        return self.second\n",
    "\n",
    "    def set_pair(self, first, second):\n",
    "        \"\"\"\n",
    "        Sets the pair of values.\n",
    "        \"\"\"\n",
    "        self.first = first\n",
    "        self.second = second\n",
    "\n",
    "    def __str__(self):\n",
    "        \"\"\"\n",
    "        Returns a string representation of the pair.\n",
    "        \"\"\"\n",
    "        return f\"first = {self.first} second = {self.second}\"\n",
    "\n",
    "# Example usage of the generic class\n",
    "if __name__ == \"__main__\":\n",
    "    # Create an instance of StorePairGeneric with integer values\n",
    "    int_pair = StorePairGeneric(1, 2)\n",
    "    print(int_pair)  # Output: first = 1 second = 2\n",
    "\n",
    "    # Create an instance of StorePairGeneric with string values\n",
    "    str_pair = StorePairGeneric(\"apple\", \"banana\")\n",
    "    print(str_pair)  # Output: first = apple second = banana\n",
    "\n",
    "    # Create an instance of StorePairGeneric with mixed types\n",
    "    mixed_pair = StorePairGeneric(\"hello\",42)\n",
    "    print(mixed_pair)  # Output: first = hello second = 42\n"
   ]
  },
  {
   "cell_type": "markdown",
   "id": "8b427f2f-5910-43cc-94c8-b1467b911f8c",
   "metadata": {},
   "source": [
    "## Q3 - b"
   ]
  },
  {
   "cell_type": "code",
   "execution_count": 7,
   "id": "8fedd596-f04c-453c-b7cc-43fdacbf3c92",
   "metadata": {},
   "outputs": [
    {
     "name": "stdout",
     "output_type": "stream",
     "text": [
      "True\n",
      "False\n"
     ]
    }
   ],
   "source": [
    "class StorePairGeneric:\n",
    "    # Initializer for the class with two parameters\n",
    "    def __init__(self, first, second):\n",
    "        self.first = first  # Assign the first parameter to the instance variable 'first'\n",
    "        self.second = second  # Assign the second parameter to the instance variable 'second'\n",
    "\n",
    "    # Getter for the first value\n",
    "    def get_first(self):\n",
    "        return self.first  # Return the first value\n",
    "\n",
    "    # Getter for the second value\n",
    "    def get_second(self):\n",
    "        return self.second  # Return the second value\n",
    "\n",
    "    # Setter for the pair of values\n",
    "    def set_pair(self, first, second):\n",
    "        self.first = first  # Set the first value\n",
    "        self.second = second  # Set the second value\n",
    "\n",
    "    # String representation of the object\n",
    "    def __str__(self):\n",
    "        return f\"first = {self.first} second = {self.second}\"  # Return the string representation\n",
    "\n",
    "    # Equals method to compare two StorePairGeneric objects based on their 'first' value\n",
    "    def __eq__(self, other):\n",
    "        if isinstance(other, StorePairGeneric):  # Check if 'other' is an instance of StorePairGeneric\n",
    "            return self.first == other.first  # Compare the 'first' value of both objects\n",
    "        return False  # If 'other' is not a StorePairGeneric, return False\n",
    "\n",
    "# Example usage of the class with the overridden equals method\n",
    "if __name__ == \"__main__\":\n",
    "    # Create two instances of StorePairGeneric with the same first value\n",
    "    pair1 = StorePairGeneric(1, 2)\n",
    "    pair2 = StorePairGeneric(1, 3)\n",
    "\n",
    "    # Create another instance with a different first value\n",
    "    pair3 = StorePairGeneric(2, 2)\n",
    "\n",
    "    # Compare pairs for equality based on their first values\n",
    "    print(pair1 == pair2)  # Output: True, because the first values are the same\n",
    "    print(pair1 == pair3)  # Output: False, because the first values are different\n"
   ]
  },
  {
   "cell_type": "markdown",
   "id": "2b2f20a5-31de-41b8-88be-9f68959f9d3c",
   "metadata": {},
   "source": [
    "## Q3 - c"
   ]
  },
  {
   "cell_type": "code",
   "execution_count": 8,
   "id": "dbbe4d05-ca74-42f2-bc87-0c86f46caaad",
   "metadata": {},
   "outputs": [
    {
     "name": "stdout",
     "output_type": "stream",
     "text": [
      "True\n",
      "False\n"
     ]
    }
   ],
   "source": [
    "class StorePairGeneric:\n",
    "    def __init__(self, first, second):\n",
    "        self.first = first\n",
    "        self.second = second\n",
    "\n",
    "    def get_first(self):\n",
    "        return self.first\n",
    "\n",
    "    def get_second(self):\n",
    "        return self.second\n",
    "\n",
    "    def set_pair(self, first, second):\n",
    "        self.first = first\n",
    "        self.second = second\n",
    "\n",
    "    def __str__(self):\n",
    "        return f\"first = {self.first} second = {self.second}\"\n",
    "\n",
    "    def __eq__(self, other):\n",
    "        if isinstance(other, StorePairGeneric):\n",
    "            return self.first == other.first\n",
    "        return False\n",
    "\n",
    "    def __lt__(self, other):\n",
    "        if isinstance(other, StorePairGeneric):\n",
    "            return self.first < other.first\n",
    "        return NotImplemented\n",
    "\n",
    "    def __gt__(self, other):\n",
    "        if isinstance(other, StorePairGeneric):\n",
    "            return self.first > other.first\n",
    "        return NotImplemented\n",
    "\n",
    "# Example usage of the class with comparison methods\n",
    "if __name__ == \"__main__\":\n",
    "    pair1 = StorePairGeneric(1, 2)\n",
    "    pair2 = StorePairGeneric(2, 3)\n",
    "\n",
    "    print(pair1 < pair2)  # Output: True, because the first value of pair1 is less than the first value of pair2\n",
    "    print(pair1 > pair2)  # Output: False, because the first value of pair1 is not greater than the first value of pair2\n"
   ]
  },
  {
   "cell_type": "markdown",
   "id": "0c4710ad-f974-405c-98f1-45a9af780a25",
   "metadata": {},
   "source": [
    "## Q3 - d"
   ]
  },
  {
   "cell_type": "code",
   "execution_count": 9,
   "id": "9a28b150-f1ff-48f6-a36b-d6c0392711b3",
   "metadata": {},
   "outputs": [
    {
     "name": "stdout",
     "output_type": "stream",
     "text": [
      "Object a: first = 6 second = 4\n",
      "Object b: first = 2 second = 2\n",
      "Object c: first = 6 second = 3\n"
     ]
    }
   ],
   "source": [
    "class StorePairGeneric:\n",
    "    def __init__(self, first, second):\n",
    "        self.first = first\n",
    "        self.second = second\n",
    "\n",
    "    def get_first(self):\n",
    "        return self.first\n",
    "\n",
    "    def get_second(self):\n",
    "        return self.second\n",
    "\n",
    "    def set_pair(self, first, second):\n",
    "        self.first = first\n",
    "        self.second = second\n",
    "\n",
    "    def __str__(self):\n",
    "        return f\"first = {self.first} second = {self.second}\"\n",
    "\n",
    "    def __eq__(self, other):\n",
    "        if isinstance(other, StorePairGeneric):\n",
    "            return self.first == other.first\n",
    "        return False\n",
    "\n",
    "    def __lt__(self, other):\n",
    "        if isinstance(other, StorePairGeneric):\n",
    "            return self.first < other.first\n",
    "        return NotImplemented\n",
    "\n",
    "    def __gt__(self, other):\n",
    "        if isinstance(other, StorePairGeneric):\n",
    "            return self.first > other.first\n",
    "        return NotImplemented\n",
    "\n",
    "# Test program\n",
    "if __name__ == \"__main__\":\n",
    "    # Create three objects of the StorePairGeneric class\n",
    "    a = StorePairGeneric(6, 4)\n",
    "    b = StorePairGeneric(2, 2)\n",
    "    c = StorePairGeneric(6, 3)\n",
    "\n",
    "    # Print the objects\n",
    "    print(f\"Object a: {a}\")\n",
    "    print(f\"Object b: {b}\")\n",
    "    print(f\"Object c: {c}\")\n"
   ]
  },
  {
   "cell_type": "markdown",
   "id": "cea63898-ff2c-4580-96b1-9146d391b418",
   "metadata": {},
   "source": [
    "## Q3 - e"
   ]
  },
  {
   "cell_type": "code",
   "execution_count": 11,
   "id": "8603a4c1-1ddf-4399-9c42-53d1921586d1",
   "metadata": {},
   "outputs": [
    {
     "name": "stdout",
     "output_type": "stream",
     "text": [
      "a == b: False\n",
      "a == c: True\n",
      "a < b: False\n",
      "a > c: False\n",
      "b < c: True\n"
     ]
    }
   ],
   "source": [
    "# Assuming the StorePairGeneric class is already defined with __eq__, __lt__, and __gt__ methods\n",
    "\n",
    "# Test program\n",
    "if __name__ == \"__main__\":\n",
    "    # Create three objects of the StorePairGeneric class\n",
    "    a = StorePairGeneric(6, 4)\n",
    "    b = StorePairGeneric(2, 2)\n",
    "    c = StorePairGeneric(6, 3)\n",
    "\n",
    "    # Invoke the compareTo() and equals() methods to compare the objects\n",
    "    print(f\"a == b: {a == b}\")  # Compare 'a' and 'b' for equality\n",
    "    print(f\"a == c: {a == c}\")  # Compare 'a' and 'c' for equality\n",
    "    print(f\"a < b: {a < b}\")    # Compare if 'a' is less than 'b'\n",
    "    print(f\"a > c: {a > c}\")    # Compare if 'a' is greater than 'c'\n",
    "    print(f\"b < c: {b < c}\")    # Compare if 'b' is less than 'c'\n"
   ]
  },
  {
   "cell_type": "markdown",
   "id": "5367b57c-8819-4147-b320-11921361a6b4",
   "metadata": {},
   "source": [
    "# Q4"
   ]
  },
  {
   "cell_type": "code",
   "execution_count": 12,
   "id": "3968336e-3d8a-4a37-8888-c0a7dc2f17f3",
   "metadata": {},
   "outputs": [
    {
     "name": "stdout",
     "output_type": "stream",
     "text": [
      "minmax() method returns “Min = 1 Max = 9” for intArray\n",
      "minmax() method returns “Min = blue Max = tan” for strArray\n"
     ]
    }
   ],
   "source": [
    "def minmax(array):\n",
    "    \"\"\"\n",
    "    Generic method that takes an array of generic type and returns a string\n",
    "    with the format: Min = <minValue> Max = <maxValue>.\n",
    "    \"\"\"\n",
    "    # Initialize min and max with the first element of the array\n",
    "    min_value = max_value = array[0]\n",
    "    \n",
    "    # Iterate over the array to find the min and max values\n",
    "    for element in array:\n",
    "        if element < min_value:\n",
    "            min_value = element\n",
    "        elif element > max_value:\n",
    "            max_value = element\n",
    "    \n",
    "    # Return the formatted string\n",
    "    return f\"Min = {min_value} Max = {max_value}\"\n",
    "\n",
    "# Test program\n",
    "if __name__ == \"__main__\":\n",
    "    # Create an array of integers\n",
    "    int_array = [5, 3, 7, 1, 4, 9, 8, 2]\n",
    "    # Create an array of strings\n",
    "    str_array = [\"red\", \"blue\", \"orange\", \"tan\"]\n",
    "    \n",
    "    # Invoke minmax() method and print the results\n",
    "    print(f\"minmax() method returns “{minmax(int_array)}” for intArray\")\n",
    "    print(f\"minmax() method returns “{minmax(str_array)}” for strArray\")\n"
   ]
  },
  {
   "cell_type": "markdown",
   "id": "f16ea99f-9f6c-4992-95c7-058c85c14928",
   "metadata": {},
   "source": [
    "# Q5"
   ]
  },
  {
   "cell_type": "code",
   "execution_count": 13,
   "id": "4329090f-3679-4a09-9637-378910aa4f3e",
   "metadata": {},
   "outputs": [
    {
     "name": "stdout",
     "output_type": "stream",
     "text": [
      "The maximum value in the integer array is: 3\n",
      "The maximum value in the string list is: red\n",
      "The maximum value in the circle array is: Circle(radius=5.9)\n"
     ]
    }
   ],
   "source": [
    "class Circle:\n",
    "    def __init__(self, radius):\n",
    "        self.radius = radius\n",
    "\n",
    "    def __lt__(self, other):\n",
    "        return self.radius < other.radius\n",
    "\n",
    "    def __eq__(self, other):\n",
    "        return self.radius == other.radius\n",
    "\n",
    "    def __str__(self):\n",
    "        return f\"Circle(radius={self.radius})\"\n",
    "\n",
    "class FindMax:\n",
    "    @staticmethod\n",
    "    def max(array):\n",
    "        max_value = array[0]\n",
    "        for element in array:\n",
    "            if element > max_value:\n",
    "                max_value = element\n",
    "        return max_value\n",
    "\n",
    "# Test program\n",
    "if __name__ == \"__main__\":\n",
    "    # Create an array of integers\n",
    "    int_array = [1, 2, 3]\n",
    "    # Create a list of strings\n",
    "    str_list = [\"red\", \"green\", \"blue\"]\n",
    "    # Create an array of Circle objects\n",
    "    circle_array = [Circle(3), Circle(2.9), Circle(5.9)]\n",
    "\n",
    "    # Invoke the max method and print the results\n",
    "    max_int = FindMax.max(int_array)\n",
    "    max_str = FindMax.max(str_list)\n",
    "    max_circle = FindMax.max(circle_array)\n",
    "\n",
    "    print(f\"The maximum value in the integer array is: {max_int}\")\n",
    "    print(f\"The maximum value in the string list is: {max_str}\")\n",
    "    print(f\"The maximum value in the circle array is: {max_circle}\")\n"
   ]
  },
  {
   "cell_type": "markdown",
   "id": "863518b8-4ff6-47a0-adb9-94d4ffcf8d2e",
   "metadata": {},
   "source": [
    "# Q6"
   ]
  },
  {
   "cell_type": "code",
   "execution_count": 16,
   "id": "c16cace6-2449-40d7-ae8e-3f9dab1e8f26",
   "metadata": {},
   "outputs": [
    {
     "name": "stdout",
     "output_type": "stream",
     "text": [
      "The minimum element is: 1\n",
      "The maximum element is: 6\n"
     ]
    }
   ],
   "source": [
    "class MinMaxTwoDArray:\n",
    "    @staticmethod\n",
    "    def min(list_2d):\n",
    "        \"\"\"Returns the minimum element in a two-dimensional array.\"\"\"\n",
    "        # Initialize the minimum element with the first element of the first row\n",
    "        min_element = list_2d[0][0]\n",
    "        # Iterate over each row in the 2D array\n",
    "        for row in list_2d:\n",
    "            # Iterate over each element in the row\n",
    "            for element in row:\n",
    "                # Update the minimum element if a smaller element is found\n",
    "                if element < min_element:\n",
    "                    min_element = element\n",
    "        # Return the minimum element\n",
    "        return min_element\n",
    "\n",
    "    @staticmethod\n",
    "    def max(list_2d):\n",
    "        \"\"\"Returns the maximum element in a two-dimensional array.\"\"\"\n",
    "        # Initialize the maximum element with the first element of the first row\n",
    "        max_element = list_2d[0][0]\n",
    "        # Iterate over each row in the 2D array\n",
    "        for row in list_2d:\n",
    "            # Iterate over each element in the row\n",
    "            for element in row:\n",
    "                # Update the maximum element if a larger element is found\n",
    "                if element > max_element:\n",
    "                    max_element = element\n",
    "        # Return the maximum element\n",
    "        return max_element\n",
    "\n",
    "# Test program\n",
    "if __name__ == \"__main__\":\n",
    "    # Create a two-dimensional array of integers\n",
    "    numbers = [[4, 5, 6], [1, 2, 3]]\n",
    "    # Display the minimum element using the min method\n",
    "    print(f\"The minimum element is: {MinMaxTwoDArray.min(numbers)}\")\n",
    "    # Display the maximum element using the max method\n",
    "    print(f\"The maximum element is: {MinMaxTwoDArray.max(numbers)}\")\n"
   ]
  },
  {
   "cell_type": "code",
   "execution_count": null,
   "id": "89d0d16d-097d-4c12-b173-7196178d0891",
   "metadata": {},
   "outputs": [],
   "source": []
  }
 ],
 "metadata": {
  "kernelspec": {
   "display_name": "Python 3 (ipykernel)",
   "language": "python",
   "name": "python3"
  },
  "language_info": {
   "codemirror_mode": {
    "name": "ipython",
    "version": 3
   },
   "file_extension": ".py",
   "mimetype": "text/x-python",
   "name": "python",
   "nbconvert_exporter": "python",
   "pygments_lexer": "ipython3",
   "version": "3.10.6"
  }
 },
 "nbformat": 4,
 "nbformat_minor": 5
}
