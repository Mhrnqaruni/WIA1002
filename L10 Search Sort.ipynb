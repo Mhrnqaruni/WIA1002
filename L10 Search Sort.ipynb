{
 "cells": [
  {
   "cell_type": "markdown",
   "id": "f36eca2c-b26d-4dc3-8a62-cdc6e56e8497",
   "metadata": {},
   "source": [
    "# Q1"
   ]
  },
  {
   "cell_type": "code",
   "execution_count": 2,
   "id": "a5add8b7-253f-4543-909c-03286672309a",
   "metadata": {},
   "outputs": [
    {
     "name": "stdout",
     "output_type": "stream",
     "text": [
      "Sorted array is: [2, 3, 7, 8, 19, 45]\n"
     ]
    }
   ],
   "source": [
    "def selection_sort_smallest(arr):\n",
    "    # This function performs a selection sort on the input array 'arr'\n",
    "    \n",
    "    # Traverse through all array elements\n",
    "    for i in range(len(arr)):\n",
    "        # Initially, assume the first element of the unsorted part as the minimum\n",
    "        min_idx = i\n",
    "        \n",
    "        # Iterate over the unsorted part of the array\n",
    "        for j in range(i+1, len(arr)):\n",
    "            # Compare the current element with the assumed minimum\n",
    "            if arr[min_idx] > arr[j]:\n",
    "                # If the current element is smaller, update the index of the minimum element\n",
    "                min_idx = j\n",
    "                \n",
    "        # After finding the minimum element among the unsorted part,\n",
    "        # swap it with the first unsorted element\n",
    "        arr[i], arr[min_idx] = arr[min_idx], arr[i]\n",
    "        # Now the element at index 'i' is in its correct position\n",
    "\n",
    "# Given array\n",
    "arr = [45, 7, 2, 8, 19, 3]\n",
    "# Call the selection sort function\n",
    "selection_sort_smallest(arr)\n",
    "# Print the sorted array\n",
    "print(\"Sorted array is:\", arr)\n"
   ]
  },
  {
   "cell_type": "markdown",
   "id": "c59a4a92-b1f1-4583-aa44-76999b75b483",
   "metadata": {},
   "source": [
    "# Q2"
   ]
  },
  {
   "cell_type": "code",
   "execution_count": 5,
   "id": "06ccd6e4-bfa1-4c6a-bb16-8b009639d0a2",
   "metadata": {},
   "outputs": [
    {
     "name": "stdout",
     "output_type": "stream",
     "text": [
      "Sorted array is: [45, 19, 8, 7, 3, 2]\n"
     ]
    }
   ],
   "source": [
    "def selection_sort_largest(arr):\n",
    "    # This function performs a selection sort on the input array 'arr'\n",
    "    # by selecting the largest element each time.\n",
    "    \n",
    "    # Traverse through all array elements except the last one\n",
    "    for i in range(len(arr) - 1):\n",
    "        # Initially, assume the first element of the unsorted part as the maximum\n",
    "        max_idx = i\n",
    "        \n",
    "        # Iterate over the unsorted part of the array\n",
    "        for j in range(i + 1, len(arr)):\n",
    "            # Compare the current element with the assumed maximum\n",
    "            if arr[max_idx] < arr[j]:\n",
    "                # If the current element is larger, update the index of the maximum element\n",
    "                max_idx = j\n",
    "                \n",
    "        # After finding the maximum element among the unsorted part,\n",
    "        # swap it with the first unsorted element\n",
    "        arr[i], arr[max_idx] = arr[max_idx], arr[i]\n",
    "        # Now the element at index 'i' is in its correct position\n",
    "\n",
    "# Given array\n",
    "arr = [45, 7, 2, 8, 19, 3]\n",
    "# Call the selection sort function\n",
    "selection_sort_largest(arr)\n",
    "# Print the sorted array\n",
    "print(\"Sorted array is:\", arr)\n"
   ]
  },
  {
   "cell_type": "code",
   "execution_count": null,
   "id": "c181c6f3-b2a4-4a27-a366-5e6af059a6fa",
   "metadata": {},
   "outputs": [],
   "source": []
  }
 ],
 "metadata": {
  "kernelspec": {
   "display_name": "Python 3 (ipykernel)",
   "language": "python",
   "name": "python3"
  },
  "language_info": {
   "codemirror_mode": {
    "name": "ipython",
    "version": 3
   },
   "file_extension": ".py",
   "mimetype": "text/x-python",
   "name": "python",
   "nbconvert_exporter": "python",
   "pygments_lexer": "ipython3",
   "version": "3.10.6"
  }
 },
 "nbformat": 4,
 "nbformat_minor": 5
}
