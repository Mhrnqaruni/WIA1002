{
 "cells": [
  {
   "cell_type": "markdown",
   "id": "58293ab3-619a-406a-88c3-79f8b2abe4a9",
   "metadata": {
    "jp-MarkdownHeadingCollapsed": true
   },
   "source": [
    "# Q1"
   ]
  },
  {
   "cell_type": "markdown",
   "id": "719f46d6-2baa-4e37-a476-3bf84ebc882f",
   "metadata": {
    "jp-MarkdownHeadingCollapsed": true
   },
   "source": [
    "## part 1"
   ]
  },
  {
   "cell_type": "code",
   "execution_count": 1,
   "id": "69afaa94-46ce-4cab-a61c-4119ccdb44a7",
   "metadata": {},
   "outputs": [],
   "source": [
    "# Replace the placeholders with your actual details\n",
    "your_name = \"Mehran\"\n",
    "matrix_number = \"S2014607\"\n",
    "major = \"Artificial Intelligence\"\n",
    "attempt = \"first\"  # Choose as applicable\n",
    "emotion = \"Normal\"\n",
    "reason_for_emotion = \"I had to take this course :)\"\n",
    "previous_grade = \"A+\"\n",
    "expected_grade = \"A+\"\n",
    "plan_for_success = \"Cry\"\n",
    "\n",
    "# Construct the content of the letter\n",
    "content = f\"\"\"Thursday, 19 March 2021.\n",
    "My name is {your_name} with matrix number, {matrix_number}. I am majoring in {major}. This is my {attempt} time taking the Data Structure subject. At the moment, I am feeling {emotion} about taking this subject. This is because {reason_for_emotion}.\n",
    "I acquired {previous_grade} for my previous Programming 1 course. It’s not too bad. So, I think I can manage to get {expected_grade} for this DS subject this term. In order to do well in the subject, I will {plan_for_success}. Wish me luck!!!\n",
    "\"\"\"\n",
    "\n",
    "# Write the content to a text file\n",
    "file_name = f\"{your_name}_{matrix_number}.txt\"\n",
    "with open(file_name, 'w') as file:\n",
    "    file.write(content)\n"
   ]
  },
  {
   "cell_type": "code",
   "execution_count": 5,
   "id": "efaafb77-55da-4902-8757-e30410e0aec5",
   "metadata": {},
   "outputs": [
    {
     "name": "stdout",
     "output_type": "stream",
     "text": [
      "Thursday, 19 March 2021.\n",
      "My name is Mehran with matrix number, S2014607. I am majoring in Artificial Intelligence. This is my first time taking the Data Structure subject. At the moment, I am feeling Normal about taking this subject. This is because I had to take this course :).\n",
      "I acquired A+ for my previous Programming 1 course. It’s not too bad. So, I think I can manage to get A+ for this DS subject this term. In order to do well in the subject, I will Cry. Wish me luck!!!\n",
      "\n",
      "Thursday, 18 June 2021.\n",
      "Reflecting on the Data Structure course, I can say that I have performed YourPerformance in the class. Am I happy with my performance? Yes/No. Learning DS has taught me WhatYouLearnedFromDS. Regarding my target grade, there has been AnyChangeInTargetGrade since the beginning of the term. Throughout the course, I did well in WhatYouDidWell, but I believe I could have done better in WhatCouldHaveBeenDoneBetter.\n",
      "\n"
     ]
    }
   ],
   "source": [
    "# Replace 'YourName_YourMatrixNumber' with your actual file name\n",
    "file_name = \"Mehran_S2014607.txt\"\n",
    "\n",
    "# Read and display the content of the file\n",
    "with open(file_name, 'r') as file:\n",
    "    content = file.read()\n",
    "    print(content)\n"
   ]
  },
  {
   "cell_type": "markdown",
   "id": "96bb0e57-6822-4839-8e05-4ad77647ef4e",
   "metadata": {
    "jp-MarkdownHeadingCollapsed": true
   },
   "source": [
    "## Part 2"
   ]
  },
  {
   "cell_type": "code",
   "execution_count": 4,
   "id": "85e417a1-461d-4b82-b588-7616d27cc2bc",
   "metadata": {},
   "outputs": [],
   "source": [
    "# Additional details for the second part of the letter\n",
    "performance = \"YourPerformance\"\n",
    "happy_with_performance = \"Yes/No\"  # Are you happy with your performance?\n",
    "learnings_from_DS = \"WhatYouLearnedFromDS\"\n",
    "change_in_target_grade = \"AnyChangeInTargetGrade\"\n",
    "what_you_did_well = \"WhatYouDidWell\"\n",
    "what_could_be_better = \"WhatCouldHaveBeenDoneBetter\"\n",
    "\n",
    "# Construct the second part of the letter\n",
    "second_part_content = f\"\"\"\n",
    "Thursday, 18 June 2021.\n",
    "Reflecting on the Data Structure course, I can say that I have performed {performance} in the class. Am I happy with my performance? {happy_with_performance}. Learning DS has taught me {learnings_from_DS}. Regarding my target grade, there has been {change_in_target_grade} since the beginning of the term. Throughout the course, I did well in {what_you_did_well}, but I believe I could have done better in {what_could_be_better}.\n",
    "\"\"\"\n",
    "\n",
    "# Append the second part to the existing letter\n",
    "file_name = \"Mehran_S2014607.txt\"\n",
    "with open(file_name, 'a') as file:\n",
    "    file.write(second_part_content)\n"
   ]
  },
  {
   "cell_type": "code",
   "execution_count": null,
   "id": "abc004da-6c16-430b-af8d-e6081a880e90",
   "metadata": {},
   "outputs": [],
   "source": [
    "# Replace 'YourName_YourMatrixNumber' with your actual file name\n",
    "file_name = \"Mehran_S2014607.txt\"\n",
    "\n",
    "# Read and display the content of the file\n",
    "with open(file_name, 'r') as file:\n",
    "    content = file.read()\n",
    "    print(content)\n"
   ]
  },
  {
   "cell_type": "markdown",
   "id": "ce72612f-0ed4-40c6-8df7-22b17c4200bd",
   "metadata": {
    "jp-MarkdownHeadingCollapsed": true
   },
   "source": [
    "## Part 3"
   ]
  },
  {
   "cell_type": "code",
   "execution_count": 10,
   "id": "fd57c9f2-34bb-4d34-8c2d-61e850e12268",
   "metadata": {},
   "outputs": [
    {
     "name": "stdout",
     "output_type": "stream",
     "text": [
      "Please enter the following details for the second part of your letter:\n"
     ]
    },
    {
     "name": "stdin",
     "output_type": "stream",
     "text": [
      "How you have performed in the class:  A\n",
      "Are you happy with your performance (Yes/No):  A\n",
      "What has learning DS taught you / what did you learn from DS:  A\n",
      "Is there any change to your target grade:  A\n",
      "What you did well during the course:  A\n",
      "What could have been done better during the course:  A\n"
     ]
    },
    {
     "name": "stdout",
     "output_type": "stream",
     "text": [
      "+++++++++++++++++++++++++++++++++++++++++++++++++++++++\n",
      "Thursday, 19 March 2021.\n",
      "My name is Mehran with matrix number, S2014607. I am majoring in Artificial Intelligence. This is my first time taking the Data Structure subject. At the moment, I am feeling Normal about taking this subject. This is because I had to take this course :).\n",
      "I acquired A+ for my previous Programming 1 course. It’s not too bad. So, I think I can manage to get A+ for this DS subject this term. In order to do well in the subject, I will Cry. Wish me luck!!!\n",
      "\n",
      "Thursday, 18 June 2021.\n",
      "Reflecting on the Data Structure course, I can say that I have performed YourPerformance in the class. Am I happy with my performance? Yes/No. Learning DS has taught me WhatYouLearnedFromDS. Regarding my target grade, there has been AnyChangeInTargetGrade since the beginning of the term. Throughout the course, I did well in WhatYouDidWell, but I believe I could have done better in WhatCouldHaveBeenDoneBetter.\n",
      "\n",
      "Thursday, 18 June 2021.\n",
      "It’s me again. Finally, it’s the end of the term and the DS class has finished! I think I did A in this course. I am not happy with my performance. Learning DS has taught me A. There has been A to my target grade. During the course, I did well in A, but I could have done better in A.\n",
      "\n"
     ]
    }
   ],
   "source": [
    "# Import the necessary library for input\n",
    "import io\n",
    "\n",
    "# Function to get user input for the second part of the letter\n",
    "\n",
    "print(\"Please enter the following details for the second part of your letter:\")\n",
    "performance = input(\"How you have performed in the class: \")\n",
    "happy_with_performance = input(\"Are you happy with your performance (Yes/No): \")\n",
    "learnings_from_DS = input(\"What has learning DS taught you / what did you learn from DS: \")\n",
    "change_in_target_grade = input(\"Is there any change to your target grade: \")\n",
    "what_you_did_well = input(\"What you did well during the course: \")\n",
    "what_could_be_better = input(\"What could have been done better during the course: \")\n",
    "\n",
    "second_part_content = f\"\"\"\n",
    "Thursday, 18 June 2021.\n",
    "It’s me again. Finally, it’s the end of the term and the DS class has finished! I think I did {performance} in this course. I am {'happy' if happy_with_performance.lower() == 'yes' else 'not happy'} with my performance. Learning DS has taught me {learnings_from_DS}. There has been {change_in_target_grade} to my target grade. During the course, I did well in {what_you_did_well}, but I could have done better in {what_could_be_better}.\n",
    "\"\"\"\n",
    "\n",
    "# Read the first part of the letter from the file\n",
    "file_name = \"Mehran_S2014607.txt\"\n",
    "with open(file_name, 'r') as file:\n",
    "    first_part_content = file.read()\n",
    "\n",
    "# Get the second part of the letter from user input\n",
    "\n",
    "# Append the second part to the first part\n",
    "full_letter_content = first_part_content + second_part_content\n",
    "\n",
    "# Display the full letter content\n",
    "print(\"+++++++++++++++++++++++++++++++++++++++++++++++++++++++\")\n",
    "print(full_letter_content)\n"
   ]
  },
  {
   "cell_type": "markdown",
   "id": "fcae6496-f10b-42c3-a539-d390b080a02d",
   "metadata": {
    "jp-MarkdownHeadingCollapsed": true
   },
   "source": [
    "# Q2"
   ]
  },
  {
   "cell_type": "markdown",
   "id": "8eef605f-e32b-44a6-8c19-e80b90810a6a",
   "metadata": {
    "jp-MarkdownHeadingCollapsed": true
   },
   "source": [
    "## part 1"
   ]
  },
  {
   "cell_type": "code",
   "execution_count": 17,
   "id": "fd3c371a-999d-471f-94a3-c28c629466d1",
   "metadata": {},
   "outputs": [
    {
     "name": "stdout",
     "output_type": "stream",
     "text": [
      "Number of characters: 20\n",
      "Cleaned content:\n",
      "Hi\n",
      "reyouhappy\n",
      "NoIamsad\n"
     ]
    }
   ],
   "source": [
    "# Open the file and read its contents\n",
    "file = open('text1.txt', 'r')\n",
    "content = file.readlines()\n",
    "file.close()\n",
    "\n",
    "# Create an empty string to hold the cleaned content\n",
    "cleaned_content = ''\n",
    "\n",
    "# Go through each line in the content\n",
    "for line in content:\n",
    "    # Go through each character in the line\n",
    "    for c in line:\n",
    "        # If the character is a letter, a number, or a newline, add it to the cleaned content\n",
    "        if c.isalnum() or c == '\\n':\n",
    "            cleaned_content += c\n",
    "\n",
    "# Print the number of characters and the cleaned content\n",
    "print(\"Number of characters:\", len(cleaned_content.replace('\\n', '')))  # Exclude newlines from character count\n",
    "print(\"Cleaned content:\")\n",
    "print(cleaned_content)\n"
   ]
  },
  {
   "cell_type": "markdown",
   "id": "e8d7045e-f3e8-4f3d-8ed6-197c23ca7649",
   "metadata": {},
   "source": [
    "## Part 2"
   ]
  },
  {
   "cell_type": "code",
   "execution_count": 18,
   "id": "f94fcd50-495d-4de7-af55-01512dfdb71a",
   "metadata": {},
   "outputs": [
    {
     "name": "stdout",
     "output_type": "stream",
     "text": [
      "File: text1.txt\n",
      "Number of characters without special characters: 66\n",
      "Cleaned content:\n",
      "SUCESS\n",
      "Accomplishment\n",
      "Brilliant\n",
      "Creative\n",
      "Determination\n",
      "Encouraging \n",
      "Focus\n",
      "\n",
      "\n",
      "File: text2.txt\n",
      "Number of characters without special characters: 28\n",
      "Cleaned content:\n",
      "15 2 9 78 33 61\n",
      "198 523 91 42 13 77\n",
      "34 45\n",
      "\n",
      "\n",
      "\n",
      "File: text3.txt\n",
      "Number of characters without special characters: 36\n",
      "Cleaned content:\n",
      "433 251 611 233 631\n",
      "195 367 222\n",
      "684 504 956 092\n",
      "\n",
      "\n",
      "File: text4.txt\n",
      "Number of characters without special characters: 21\n",
      "Cleaned content:\n",
      "abc123def456ghi789jkl\n",
      "\n",
      "\n"
     ]
    }
   ],
   "source": [
    "# List of file names to process\n",
    "file_names = ['text1.txt', 'text2.txt', 'text3.txt', 'text4.txt']\n",
    "\n",
    "# Loop through each file name\n",
    "for file_name in file_names:\n",
    "    # Open the file and read its contents\n",
    "    with open(file_name, 'r') as file:\n",
    "        content = file.read()\n",
    "\n",
    "    # Remove any character that is not a letter, a number, a newline, or a space\n",
    "    cleaned_content = ''.join(c for c in content if c.isalnum() or c in ['\\n', ' '])\n",
    "\n",
    "    # Calculate the number of characters after cleaning (excluding spaces and newlines)\n",
    "    num_characters = len(cleaned_content.replace(' ', '').replace('\\n', ''))\n",
    "\n",
    "    # Print the results for the current file\n",
    "    print(f\"File: {file_name}\")\n",
    "    print(\"Number of characters without special characters:\", num_characters)\n",
    "    print(\"Cleaned content:\")\n",
    "    print(cleaned_content)\n",
    "    print(\"\\n\")  # Add a newline for better separation between file outputs\n"
   ]
  },
  {
   "cell_type": "markdown",
   "id": "9f272312-3961-4a0c-af11-1943ebe528f9",
   "metadata": {
    "jp-MarkdownHeadingCollapsed": true
   },
   "source": [
    "# Q3"
   ]
  },
  {
   "cell_type": "code",
   "execution_count": 25,
   "id": "1f788b81-7725-4613-b745-3b9bfb0b459c",
   "metadata": {},
   "outputs": [
    {
     "name": "stdout",
     "output_type": "stream",
     "text": [
      "Balance: 20500\n",
      "Monthly interest: 76.875\n",
      "Account creation date: 2024-03-13\n"
     ]
    }
   ],
   "source": [
    "from datetime import datetime\n",
    "\n",
    "class Account:\n",
    "    def __init__(self, id=0, balance=0.0, annualInterestRate=0.0):\n",
    "        self.__id = id\n",
    "        self.__balance = balance\n",
    "        self.__annualInterestRate = annualInterestRate\n",
    "        self.__dateCreated = datetime.now()\n",
    "\n",
    "    # Accessor methods (getters)\n",
    "    def get_id(self):\n",
    "        return self.__id\n",
    "\n",
    "    def get_balance(self):\n",
    "        return self.__balance\n",
    "\n",
    "    def get_annualInterestRate(self):\n",
    "        return self.__annualInterestRate\n",
    "\n",
    "    def get_dateCreated(self):\n",
    "        return self.__dateCreated\n",
    "\n",
    "    # Mutator methods (setters)\n",
    "    def set_id(self, id):\n",
    "        self.__id = id\n",
    "\n",
    "    def set_balance(self, balance):\n",
    "        self.__balance = balance\n",
    "\n",
    "    def set_annualInterestRate(self, annualInterestRate):\n",
    "        self.__annualInterestRate = annualInterestRate\n",
    "\n",
    "    # Other methods\n",
    "    def getMonthlyInterestRate(self):\n",
    "        return self.__annualInterestRate / 12 / 100\n",
    "\n",
    "    def getMonthlyInterest(self):\n",
    "        return self.__balance * self.getMonthlyInterestRate()\n",
    "\n",
    "    def withdraw(self, amount):\n",
    "        self.__balance -= amount\n",
    "\n",
    "    def deposit(self, amount):\n",
    "        self.__balance += amount\n",
    "\n",
    "# Test program\n",
    "account = Account(1122, 20000, 4.5)\n",
    "account.withdraw(2500)\n",
    "account.deposit(3000)\n",
    "\n",
    "print(\"Balance:\", account.get_balance())\n",
    "print(\"Monthly interest:\", account.getMonthlyInterest())\n",
    "print(\"Account creation date:\", account.get_dateCreated().strftime('%Y-%m-%d'))\n"
   ]
  },
  {
   "cell_type": "markdown",
   "id": "7a47e642-235d-4502-8e28-19e45b694743",
   "metadata": {
    "jp-MarkdownHeadingCollapsed": true
   },
   "source": [
    "# Q4"
   ]
  },
  {
   "cell_type": "code",
   "execution_count": 26,
   "id": "9cbd9b3f-35ac-4180-b764-0d95da6b351d",
   "metadata": {},
   "outputs": [
    {
     "name": "stdout",
     "output_type": "stream",
     "text": [
      "Account Summary for George:\n",
      "Interest Rate: 1.5%\n",
      "Balance: $1109\n",
      "Transactions:\n",
      "2024-03-13 04:09:14 - Type: Deposit, Amount: 30, Balance: 1030, Description: ATM Deposit\n",
      "2024-03-13 04:09:14 - Type: Deposit, Amount: 40, Balance: 1070, Description: Online Transfer\n",
      "2024-03-13 04:09:14 - Type: Deposit, Amount: 50, Balance: 1120, Description: Mobile Deposit\n",
      "2024-03-13 04:09:14 - Type: Withdrawal, Amount: 5, Balance: 1115, Description: Starbucks Coffee\n",
      "2024-03-13 04:09:14 - Type: Withdrawal, Amount: 4, Balance: 1111, Description: Vending Machine Snack\n",
      "2024-03-13 04:09:14 - Type: Withdrawal, Amount: 2, Balance: 1109, Description: Parking Fee\n"
     ]
    }
   ],
   "source": [
    "from datetime import datetime\n",
    "\n",
    "class Transaction:\n",
    "    def __init__(self, type, amount, balance, description):\n",
    "        self.__type = type\n",
    "        self.__amount = amount\n",
    "        self.__balance = balance\n",
    "        self.__description = description\n",
    "        self.__date = datetime.now()\n",
    "\n",
    "    def get_summary(self):\n",
    "        return f\"{self.__date.strftime('%Y-%m-%d %H:%M:%S')} - Type: {'Deposit' if self.__type == 'D' else 'Withdrawal'}, Amount: {self.__amount}, Balance: {self.__balance}, Description: {self.__description}\"\n",
    "\n",
    "class Account1:\n",
    "    def __init__(self, name=\"\", id=0, balance=0.0, annualInterestRate=0.0):\n",
    "        self.__name = name\n",
    "        self.__id = id\n",
    "        self.__balance = balance\n",
    "        self.__annualInterestRate = annualInterestRate\n",
    "        self.__dateCreated = datetime.now()\n",
    "        self.__transactions = []\n",
    "\n",
    "    # Accessor methods (getters)\n",
    "    def get_name(self):\n",
    "        return self.__name\n",
    "\n",
    "    def get_id(self):\n",
    "        return self.__id\n",
    "\n",
    "    def get_balance(self):\n",
    "        return self.__balance\n",
    "\n",
    "    def get_annualInterestRate(self):\n",
    "        return self.__annualInterestRate\n",
    "\n",
    "    def get_dateCreated(self):\n",
    "        return self.__dateCreated\n",
    "\n",
    "    def get_transactions(self):\n",
    "        return self.__transactions\n",
    "\n",
    "    # Mutator methods (setters)\n",
    "    def set_name(self, name):\n",
    "        self.__name = name\n",
    "\n",
    "    def set_id(self, id):\n",
    "        self.__id = id\n",
    "\n",
    "    def set_balance(self, balance):\n",
    "        self.__balance = balance\n",
    "\n",
    "    def set_annualInterestRate(self, annualInterestRate):\n",
    "        self.__annualInterestRate = annualInterestRate\n",
    "\n",
    "    # Other methods\n",
    "    def getMonthlyInterestRate(self):\n",
    "        return self.__annualInterestRate / 12 / 100\n",
    "\n",
    "    def getMonthlyInterest(self):\n",
    "        return self.__balance * self.getMonthlyInterestRate()\n",
    "\n",
    "    def withdraw(self, amount, description=\"\"):\n",
    "        self.__balance -= amount\n",
    "        self.__transactions.append(Transaction('W', amount, self.__balance, description))\n",
    "\n",
    "    def deposit(self, amount, description=\"\"):\n",
    "        self.__balance += amount\n",
    "        self.__transactions.append(Transaction('D', amount, self.__balance, description))\n",
    "\n",
    "# Test program\n",
    "account1 = Account1(\"George\", 1122, 1000, 1.5)\n",
    "account1.deposit(30, \"ATM Deposit\")\n",
    "account1.deposit(40, \"Online Transfer\")\n",
    "account1.deposit(50, \"Mobile Deposit\")\n",
    "account1.withdraw(5, \"Starbucks Coffee\")\n",
    "account1.withdraw(4, \"Vending Machine Snack\")\n",
    "account1.withdraw(2, \"Parking Fee\")\n",
    "\n",
    "print(f\"Account Summary for {account1.get_name()}:\")\n",
    "print(f\"Interest Rate: {account1.get_annualInterestRate()}%\")\n",
    "print(f\"Balance: ${account1.get_balance()}\")\n",
    "print(\"Transactions:\")\n",
    "for transaction in account1.get_transactions():\n",
    "    print(transaction.get_summary())\n"
   ]
  },
  {
   "cell_type": "code",
   "execution_count": null,
   "id": "8ff9d259-2d20-4b49-b4cc-d5f628a43826",
   "metadata": {},
   "outputs": [],
   "source": []
  }
 ],
 "metadata": {
  "kernelspec": {
   "display_name": "Python 3 (ipykernel)",
   "language": "python",
   "name": "python3"
  },
  "language_info": {
   "codemirror_mode": {
    "name": "ipython",
    "version": 3
   },
   "file_extension": ".py",
   "mimetype": "text/x-python",
   "name": "python",
   "nbconvert_exporter": "python",
   "pygments_lexer": "ipython3",
   "version": "3.10.6"
  }
 },
 "nbformat": 4,
 "nbformat_minor": 5
}
